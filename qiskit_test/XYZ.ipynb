{
 "cells": [
  {
   "cell_type": "code",
   "execution_count": 55,
   "source": [
    "from qiskit import QuantumCircuit\r\n",
    "from qiskit.providers.aer import AerSimulator\r\n",
    "\r\n",
    "# Create quantum circuit with 3 qubits and 3 classical bits\r\n",
    "qc = QuantumCircuit(1, 1)\r\n",
    "qc.h(0)\r\n",
    "qc.x(0)\r\n",
    "qc.h(0)\r\n",
    "qc.measure([0], [0])\r\n",
    "\r\n",
    "sim = AerSimulator()  # make new simulator object\r\n",
    "job = sim.run(qc)      # run the experiment\r\n",
    "result = job.result()  # get the results\r\n",
    "display(qc.draw(output='mpl')) \r\n",
    "result.get_counts()    # interpret the results as a \"counts\" dictionary\r\n",
    "\r\n"
   ],
   "outputs": [
    {
     "output_type": "display_data",
     "data": {
      "image/png": "[encoded data removed]",
      "text/plain": [
       "<Figure size 314.126x144.48 with 1 Axes>"
      ]
     },
     "metadata": {}
    },
    {
     "output_type": "execute_result",
     "data": {
      "text/plain": [
       "{'0': 1024}"
      ]
     },
     "metadata": {},
     "execution_count": 55
    }
   ],
   "metadata": {}
  },
  {
   "cell_type": "code",
   "execution_count": 57,
   "source": [
    "from qiskit import QuantumCircuit\r\n",
    "from qiskit.providers.aer import AerSimulator\r\n",
    "\r\n",
    "# Create quantum circuit with 3 qubits and 3 classical bits\r\n",
    "qc = QuantumCircuit(1, 1)\r\n",
    "qc.h(0)\r\n",
    "qc.y(0)\r\n",
    "qc.h(0)\r\n",
    "qc.measure([0], [0])\r\n",
    "\r\n",
    "sim = AerSimulator()  # make new simulator object\r\n",
    "job = sim.run(qc)      # run the experiment\r\n",
    "result = job.result()  # get the results\r\n",
    "display(qc.draw(output='mpl')) \r\n",
    "result.get_counts()    # interpret the results as a \"counts\" dictionary"
   ],
   "outputs": [
    {
     "output_type": "display_data",
     "data": {
      "image/png": "[encoded data removed]",
      "text/plain": [
       "<Figure size 314.126x144.48 with 1 Axes>"
      ]
     },
     "metadata": {}
    },
    {
     "output_type": "execute_result",
     "data": {
      "text/plain": [
       "{'1': 1024}"
      ]
     },
     "metadata": {},
     "execution_count": 57
    }
   ],
   "metadata": {}
  },
  {
   "cell_type": "code",
   "execution_count": 56,
   "source": [
    "from qiskit import QuantumCircuit\r\n",
    "from qiskit.providers.aer import AerSimulator\r\n",
    "\r\n",
    "# Create quantum circuit with 3 qubits and 3 classical bits\r\n",
    "qc = QuantumCircuit(1, 1)\r\n",
    "qc.h(0)\r\n",
    "qc.z(0)\r\n",
    "qc.h(0)\r\n",
    "qc.measure([0], [0])\r\n",
    "\r\n",
    "sim = AerSimulator()  # make new simulator object\r\n",
    "job = sim.run(qc)      # run the experiment\r\n",
    "result = job.result()  # get the results\r\n",
    "display(qc.draw(output='mpl')) \r\n",
    "result.get_counts()    # interpret the results as a \"counts\" dictionary"
   ],
   "outputs": [
    {
     "output_type": "display_data",
     "data": {
      "image/png": "[encoded data removed]",
      "text/plain": [
       "<Figure size 314.126x144.48 with 1 Axes>"
      ]
     },
     "metadata": {}
    },
    {
     "output_type": "execute_result",
     "data": {
      "text/plain": [
       "{'1': 1024}"
      ]
     },
     "metadata": {},
     "execution_count": 56
    }
   ],
   "metadata": {}
  }
 ],
 "metadata": {
  "orig_nbformat": 4,
  "language_info": {
   "name": "python",
   "version": "3.9.6",
   "mimetype": "text/x-python",
   "codemirror_mode": {
    "name": "ipython",
    "version": 3
   },
   "pygments_lexer": "ipython3",
   "nbconvert_exporter": "python",
   "file_extension": ".py"
  },
  "kernelspec": {
   "name": "python3",
   "display_name": "Python 3.9.6 64-bit ('myenv': venv)"
  },
  "interpreter": {
   "hash": "f0cf2afdafef73e2f8ab4198e61fd33d94d9ec2d1dbf52f6246f9167fe84be78"
  }
 },
 "nbformat": 4,
 "nbformat_minor": 2
}